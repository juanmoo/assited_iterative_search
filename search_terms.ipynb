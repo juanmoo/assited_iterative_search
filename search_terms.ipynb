{
 "cells": [
  {
   "cell_type": "markdown",
   "id": "db8d67fa",
   "metadata": {},
   "source": [
    "# Takeda: Iterative Keyword Search"
   ]
  },
  {
   "cell_type": "markdown",
   "id": "2f81ebd8",
   "metadata": {},
   "source": [
    "### Utility functions to interact with PubMed"
   ]
  },
  {
   "cell_type": "code",
   "execution_count": 1,
   "id": "096837a3",
   "metadata": {},
   "outputs": [],
   "source": [
    "import sys\n",
    "sys.path.append('.')"
   ]
  },
  {
   "cell_type": "code",
   "execution_count": 2,
   "id": "8e377a5b",
   "metadata": {},
   "outputs": [],
   "source": [
    "from nltk import word_tokenize\n",
    "import pandas as pd\n",
    "from utils import get_extractor\n",
    "from pubmed import search, fetch_details, construct_query"
   ]
  },
  {
   "cell_type": "code",
   "execution_count": 3,
   "id": "d391689b",
   "metadata": {},
   "outputs": [],
   "source": [
    "# Config Keyword Extractors\n",
    "config = {\n",
    "    'lan': 'en',\n",
    "    'n': 3,\n",
    "    'dedupLim': 0.9,\n",
    "    'dedupFunc': 'seqm',\n",
    "    'windowsSize': 1,\n",
    "    'top': 100,\n",
    "    'features': None\n",
    "}\n",
    "\n",
    "config_100 = {**config}\n",
    "kwe_100 = get_extractor(top=100)\n",
    "kwe_20 = get_extractor(top=20)"
   ]
  },
  {
   "cell_type": "markdown",
   "id": "7bdb45b0-26a6-4dc7-b7f8-c0e880f71e3f",
   "metadata": {},
   "source": [
    "#### Interactive Accept/Reject papers flow"
   ]
  },
  {
   "cell_type": "code",
   "execution_count": 4,
   "id": "3cd03e52-dcc0-41f0-ad8b-5fb1c93682c2",
   "metadata": {},
   "outputs": [],
   "source": [
    "from ipywidgets import Button, HBox, VBox, HTML, Layout, widgets\n",
    "import asyncio\n",
    "from IPython.display import display, clear_output\n",
    "\n",
    "def get_decisions(papers, top_paper_idxs, decisions):\n",
    "        def wait_for_change(widget1, widget2):\n",
    "            future = asyncio.Future()\n",
    "            def getvalue(change):\n",
    "                future.set_result(change.description)\n",
    "                widget1.on_click(getvalue, remove=True)\n",
    "                widget2.on_click(getvalue, remove=True)\n",
    "            widget1.on_click(getvalue)\n",
    "            widget2.on_click(getvalue)\n",
    "            return future\n",
    "        \n",
    "        \n",
    "        button1=Button(description=\"Relevant\")\n",
    "        button2=Button(description=\"Not Relevant\")\n",
    "        text_box = widgets.HTML(\n",
    "            value=\"placeholder\",\n",
    "        )\n",
    "        \n",
    "        hbox = HBox([button1,button2])\n",
    "        vbox = VBox([text_box, hbox], layout=Layout(border='solid'))\n",
    "        \n",
    "        \n",
    "        def update_textbox(paper):\n",
    "            text_value = f'<b>title</b>: {paper[\"title\"]} <br><hr> <b>abstract</b>: {paper[\"abstract\"]}<hr>'\n",
    "            text_box.value = text_value\n",
    "            display(vbox)\n",
    "        \n",
    "        async def get_paper_decisions(papers, paper_idxs):\n",
    "            chosen_papers = papers.iloc[paper_idxs]\n",
    "        \n",
    "            for j, paper in chosen_papers.iterrows():\n",
    "                update_textbox(paper)\n",
    "                res = await wait_for_change(button1, button2)\n",
    "                decisions.append(res)\n",
    "                print(res)\n",
    "                print()\n",
    "            vbox.close()\n",
    "            \n",
    "            for j, d in enumerate(decisions):\n",
    "                decisions[j] = d == 'Relevant'\n",
    "                \n",
    "        \n",
    "        display(vbox)\n",
    "        asyncio.create_task(get_paper_decisions(papers, top_paper_idxs))\n",
    "        \n",
    "        return ''"
   ]
  },
  {
   "cell_type": "markdown",
   "id": "a85045a3",
   "metadata": {},
   "source": [
    "### Proof of concept run"
   ]
  },
  {
   "cell_type": "code",
   "execution_count": 5,
   "id": "22cfe11e",
   "metadata": {},
   "outputs": [],
   "source": [
    "import pandas as pd\n",
    "import numpy as np\n",
    "from matplotlib import pyplot as plt\n",
    "import re"
   ]
  },
  {
   "cell_type": "code",
   "execution_count": 6,
   "id": "0e26a56e",
   "metadata": {},
   "outputs": [],
   "source": [
    "# query 1\n",
    "query = [('refactory', 'relapsed'), 'multiple myeloma', 'bortezomib']\n",
    "query_str = construct_query(query)"
   ]
  },
  {
   "cell_type": "code",
   "execution_count": 7,
   "id": "1dd65192",
   "metadata": {},
   "outputs": [],
   "source": [
    "# query 2\n",
    "query = [('refactory', 'relapsed'), 'multiple myeloma', 'bortezomib', ('PFS', 'OS', 'ORR', 'PR', 'VGPR', 'TNT', 'TTP')]\n",
    "query_str = construct_query(query)"
   ]
  },
  {
   "cell_type": "code",
   "execution_count": 8,
   "id": "1339be27-836a-4ae0-a938-703562bfb6a9",
   "metadata": {
    "tags": []
   },
   "outputs": [
    {
     "name": "stdout",
     "output_type": "stream",
     "text": [
      "Search query: (((refactory[Title/Abstract]) OR (relapsed[Title/Abstract])) AND (multiple myeloma[Title/Abstract]) AND (bortezomib[Title/Abstract]) AND ((PFS[Title/Abstract]) OR (OS[Title/Abstract]) OR (ORR[Title/Abstract]) OR (PR[Title/Abstract]) OR (VGPR[Title/Abstract]) OR (TNT[Title/Abstract]) OR (TTP[Title/Abstract])))\n"
     ]
    }
   ],
   "source": [
    "# Fetch 100 papers\n",
    "print('Search query:', query_str)\n",
    "query_res = search(query_str, retmax=100)\n",
    "id_list = query_res['IdList']\n",
    "query_res = fetch_details(id_list)"
   ]
  },
  {
   "cell_type": "code",
   "execution_count": 9,
   "id": "efb6668c-af82-43cb-8633-730eeb9ebccd",
   "metadata": {},
   "outputs": [],
   "source": [
    "# Get most relevant keywords\n",
    "papers = pd.DataFrame(query_res)"
   ]
  },
  {
   "cell_type": "code",
   "execution_count": 10,
   "id": "30c4d6ac-c2d6-400c-8ece-6a1f7c8902ad",
   "metadata": {},
   "outputs": [
    {
     "name": "stdout",
     "output_type": "stream",
     "text": [
      "Kept embedded keywords:\n",
      "['multiple myeloma', 'Multiple myeloma', 'bortezomib', 'pomalidomide', 'dexamethasone', 'daratumumab', 'Efficacy', 'Daratumumab', 'lenalidomide', 'Bortezomib', 'ixazomib', 'Proteasome inhibitor', 'refractory', 'real-world', 'relapse', 'carfilzomib']\n"
     ]
    }
   ],
   "source": [
    "# get list of embedded keywords\n",
    "# only keep those that appear in at least min_doc_freq fraction of documents\n",
    "min_doc_freq = 0.02\n",
    "\n",
    "keywords = set()\n",
    "keywords_freq = {}\n",
    "for j, row in papers.iterrows():\n",
    "    for kw in row['keywords']:\n",
    "        if kw not in keywords_freq:\n",
    "            keywords_freq[kw] = 0\n",
    "        keywords_freq[kw] += 1\n",
    "kw_df = pd.DataFrame(keywords_freq.items(), columns=['keyword', 'count']).sort_values('count', ascending=False)\n",
    "kw_df['freq'] = kw_df['count']/len(kw_df)\n",
    "min_freq_mask = kw_df['freq'] >= min_doc_freq\n",
    "embedded_kws = kw_df.loc[min_freq_mask]['keyword'].values.tolist()\n",
    "print('Kept embedded keywords:')\n",
    "print(embedded_kws)"
   ]
  },
  {
   "cell_type": "code",
   "execution_count": 11,
   "id": "0e8af9f1",
   "metadata": {},
   "outputs": [
    {
     "name": "stdout",
     "output_type": "stream",
     "text": [
      "Yake  keywords:\n",
      "['refractory multiple myeloma', 'multiple myeloma', 'relapsed multiple myeloma', 'refractory multiple', 'patients', 'median PFS', 'PFS', 'bortezomib', 'myeloma', 'multiple', 'refractory', 'relapsed', 'relapsed refractory multiple', 'RRMM patients', 'multiple myeloma patients', 'dexamethasone', 'RRMM', 'months', 'patients with relapsed', 'relapsed multiple', 'median', 'treatment', 'response', 'response rate', 'ORR', 'Median progression-free survival', 'progression-free survival', 'survival', 'relapsed or refractory', 'patients with RRMM', 'refractory patients', 'lenalidomide', 'therapy', 'combination', 'patients received', 'prior', 'prior bortezomib', 'study', 'refractory myeloma', 'phase', 'safety', 'myeloma patients', 'rate', 'multiple myeloma refractory', 'adverse events', 'Efficacy', 'Bortezomib and Dexamethasone', 'received prior bortezomib', 'phase III trials', 'low-dose dexamethasone', 'relapsed refractory', 'phase III', 'trials', 'partial response', 'Median progression-free', 'Multiple myeloma treatment', 'received', 'patient', 'Multiple drug combinations', 'trial', 'prior treatment', 'grade', 'pomalidomide', 'diagnosed multiple myeloma', 'carfilzomib', 'lenalidomide refractory patients', 'Japanese patients', 'transplant-ineligible multiple myeloma', 'relapsed patients', 'bortezomib treatment', 'patients refractory', 'Daratumumab', 'progression-free', 'adverse', 'VGPR', 'median PFS versus', 'complete response', 'Thal-naïve RRMM patients', 'Treated Multiple Myeloma', 'multiple myeloma treated', 'events', 'relapsed and refractory', 'group', 'clinical', 'Dexamethasone Versus Bortezomib', 'good partial response', 'prior lines', 'RRMM patients enrolled', 'multiple myeloma GIMEMA', 'regimens', 'cycles', 'median follow-up', 'versus refractory patients', 'rates', 'efficacy and safety', 'multiple myeloma previously', 'disease', 'days', 'prior therapies', 'Versus']\n"
     ]
    }
   ],
   "source": [
    "# Get keywords from document title/abstract\n",
    "all_text = papers['title'] + ' ' + papers['abstract'] # most papers don't have abstracts\n",
    "# all_text = papers['title']\n",
    "papers['text'] = all_text\n",
    "all_text = re.sub('\\s+', ' ', ' '.join(all_text)).strip()\n",
    "yake_kws = list(map(lambda e: e[0], kwe_100.extract_keywords(all_text)))\n",
    "print('Yake  keywords:')\n",
    "print(yake_kws)"
   ]
  },
  {
   "cell_type": "markdown",
   "id": "cc5087d1",
   "metadata": {},
   "source": [
    "### Combine embedded and yake keywords"
   ]
  },
  {
   "cell_type": "code",
   "execution_count": 13,
   "id": "ee5681e8",
   "metadata": {},
   "outputs": [],
   "source": [
    "max_keywords = 100\n",
    "\n",
    "used_keywords = set()\n",
    "keywords = []\n",
    "\n",
    "for kw in embedded_kws:\n",
    "    if len(keywords) >= max_keywords:\n",
    "        break\n",
    "    \n",
    "    if kw.lower() not in used_keywords:\n",
    "        keywords.append(kw.lower())\n",
    "        used_keywords.add(kw.lower())\n",
    "\n",
    "for kw in yake_kws:\n",
    "    if len(keywords) >= max_keywords:\n",
    "        break\n",
    "    \n",
    "    if kw.lower() not in used_keywords:\n",
    "        keywords.append(kw.lower())\n",
    "        used_keywords.add(kw.lower())\n",
    "\n",
    "# Construct Karnaugh Map\n",
    "kw_karnaugh_map = np.zeros((len(papers), len(keywords)))\n",
    "for kw_idx, kw in enumerate(keywords):\n",
    "    kw_mask = papers['text'].apply(lambda s: kw in s)\n",
    "    kw_karnaugh_map[:, kw_idx] = kw_mask\n",
    "    \n",
    "# Filter uninformative keywords\n",
    "min_idf = 0.1\n",
    "max_idf = 0.9\n",
    "\n",
    "kw_means = kw_karnaugh_map.mean(axis=0)\n",
    "keep_idxs = np.where( (min_idf <= kw_means) & (kw_means <= 0.9) )[0]\n",
    "keywords = np.array(keywords)[keep_idxs]\n",
    "kw_karnaugh_map = kw_karnaugh_map[:, keep_idxs]"
   ]
  },
  {
   "cell_type": "markdown",
   "id": "8bfd93d0",
   "metadata": {},
   "source": [
    "### Cluster Documents\n",
    "\n",
    "Idea: Cluster documents based on PCA of karnaugh map. Label each cluster with whether or not those documents should be included in the review. "
   ]
  },
  {
   "cell_type": "code",
   "execution_count": 14,
   "id": "a48f7d41-e4da-43b4-90c4-da25b7d67d6e",
   "metadata": {},
   "outputs": [],
   "source": [
    "# Normalize data to mean=0 and var=1\n",
    "means = kw_karnaugh_map.mean(axis=0)\n",
    "stds = kw_karnaugh_map.std(axis=0)\n",
    "std_data = (kw_karnaugh_map - means)\n",
    "std_data /= stds"
   ]
  },
  {
   "cell_type": "code",
   "execution_count": 15,
   "id": "2a51be09",
   "metadata": {},
   "outputs": [],
   "source": [
    "%matplotlib inline\n",
    "import pandas as pd\n",
    "import matplotlib.pyplot as plt\n",
    "import seaborn as sns"
   ]
  },
  {
   "cell_type": "code",
   "execution_count": 16,
   "id": "e7f70758-39ba-4d06-9e2e-42913a7895de",
   "metadata": {},
   "outputs": [
    {
     "data": {
      "image/png": "[encoded data removed]",
      "text/plain": [
       "<Figure size 432x288 with 1 Axes>"
      ]
     },
     "metadata": {
      "needs_background": "light"
     },
     "output_type": "display_data"
    }
   ],
   "source": [
    "covariance_matrix = np.cov(std_data.T)\n",
    "eigen_values, eigen_vectors = np.linalg.eig(covariance_matrix)\n",
    "eigen_values = eigen_values.real\n",
    "eigen_vectors = eigen_vectors.real\n",
    "\n",
    "explained_variance = eigen_values/eigen_values.sum()\n",
    "cumm_variance = explained_variance\n",
    "for j in range(1, len(explained_variance)):\n",
    "    cumm_variance[j] += explained_variance[j - 1]\n",
    "    \n",
    "sns.lineplot(x=np.arange(len(cumm_variance)), y=cumm_variance)\n",
    "plt.title('Explained Variance v. Num features')\n",
    "plt.xlabel('Num Features')\n",
    "plt.ylabel('Explained Variance')\n",
    "plt.grid(True)\n",
    "\n",
    "plt.show()"
   ]
  },
  {
   "cell_type": "code",
   "execution_count": 17,
   "id": "18dea9eb",
   "metadata": {},
   "outputs": [
    {
     "name": "stdout",
     "output_type": "stream",
     "text": [
      "Number of features: 25\n"
     ]
    }
   ],
   "source": [
    "# Choose number of features\n",
    "explained_variance_threshold = 0.85\n",
    "num_features = np.where(cumm_variance >= explained_variance_threshold)[0][1]\n",
    "projection_matrix = (eigen_vectors.T[:][:num_features]).T\n",
    "data_pca = std_data.dot(projection_matrix)\n",
    "print('Number of features:', num_features)"
   ]
  },
  {
   "cell_type": "code",
   "execution_count": 19,
   "id": "f11630c2",
   "metadata": {},
   "outputs": [
    {
     "data": {
      "image/png": "[encoded data removed]",
      "text/plain": [
       "<Figure size 432x288 with 1 Axes>"
      ]
     },
     "metadata": {
      "needs_background": "light"
     },
     "output_type": "display_data"
    }
   ],
   "source": [
    "from sklearn.cluster import KMeans\n",
    "\n",
    "distortions = []\n",
    "max_clusters = 25\n",
    "for i in range(1, max_clusters + 1):\n",
    "    km = KMeans(\n",
    "        n_clusters=i, init='random',\n",
    "        n_init=10, max_iter=300,\n",
    "        tol=1e-04, random_state=0\n",
    "    )\n",
    "    km.fit(data_pca)\n",
    "    distortions.append(km.inertia_)\n",
    "\n",
    "# plot\n",
    "plt.plot(range(1, max_clusters + 1), distortions, marker='o')\n",
    "plt.xlabel('Number of clusters')\n",
    "plt.ylabel('Distortion')\n",
    "plt.title('Distortion v. Cluster Count')\n",
    "plt.grid(True)\n",
    "plt.show()"
   ]
  },
  {
   "cell_type": "code",
   "execution_count": 29,
   "id": "ee49fb18-5abb-4dd5-8427-0fb44df7ae10",
   "metadata": {},
   "outputs": [
    {
     "data": {
      "image/png": "[encoded data removed]",
      "text/plain": [
       "<Figure size 576x396 with 2 Axes>"
      ]
     },
     "metadata": {},
     "output_type": "display_data"
    }
   ],
   "source": [
    "from yellowbrick.cluster.elbow import kelbow_visualizer\n",
    "res = kelbow_visualizer(KMeans(random_state=4), data_pca, k=(2,25))"
   ]
  },
  {
   "cell_type": "code",
   "execution_count": 31,
   "id": "bf197389",
   "metadata": {},
   "outputs": [],
   "source": [
    "'''\n",
    "Pick number of clusters using Elbow method\n",
    "\n",
    "-- Data does not seem to cluster too well ^^\n",
    "'''\n",
    "cluster_count = 14\n",
    "km = KMeans(\n",
    "        n_clusters=i, init='random',\n",
    "        n_init=10, max_iter=300,\n",
    "        tol=1e-04, random_state=0\n",
    "    )\n",
    "km.fit(data_pca)\n",
    "class_preds = km.predict(data_pca)\n",
    "cluster_ids, cluster_counts = np.unique(class_preds, return_counts=True)"
   ]
  },
  {
   "cell_type": "code",
   "execution_count": 32,
   "id": "538eb81e",
   "metadata": {},
   "outputs": [],
   "source": [
    "# get largest clusters\n",
    "max_shown_clusters = min(20, cluster_count)\n",
    "count_order = np.argsort(cluster_counts)[::-1]\n",
    "shown_cluster_idxs = cluster_ids[count_order][:max_shown_clusters]\n",
    "shown_cluster_counts = cluster_counts[count_order][:max_shown_clusters]"
   ]
  },
  {
   "cell_type": "code",
   "execution_count": 33,
   "id": "650ff1f0",
   "metadata": {},
   "outputs": [],
   "source": [
    "# get representative papers for each cluster\n",
    "cluster_reprs_paper_idxs = []\n",
    "for cid in shown_cluster_idxs:\n",
    "    ridx = np.where(class_preds == cid)[0][0]\n",
    "    cluster_reprs_paper_idxs.append(ridx)"
   ]
  },
  {
   "cell_type": "code",
   "execution_count": null,
   "id": "7d3d84e1-8900-44fd-864d-0fd983e7a795",
   "metadata": {},
   "outputs": [],
   "source": []
  },
  {
   "cell_type": "markdown",
   "id": "36452254-e3a1-425d-8504-b5415fc8aa4a",
   "metadata": {},
   "source": [
    "### Save queries for manual annotation"
   ]
  },
  {
   "cell_type": "code",
   "execution_count": null,
   "id": "9ed34806-8e35-4232-a553-9538c0f1557c",
   "metadata": {},
   "outputs": [],
   "source": [
    "import os"
   ]
  },
  {
   "cell_type": "code",
   "execution_count": 300,
   "id": "60ee8f2d-1553-4504-8c11-dba553c3d978",
   "metadata": {},
   "outputs": [],
   "source": [
    "# papers #1\n",
    "query1_df = papers.iloc[cluster_reprs_paper_idxs].copy()\n",
    "query1_df['relevant'] = False\n",
    "query_output_dir = '/data/rsg/nlp/juanmoo1/projects/02_iterative_search'\n",
    "query_1_sheet_path = os.path.join(query_output_dir, 'query_1.xlsx')\n",
    "# query1_df.to_excel(query_1_sheet_path)"
   ]
  },
  {
   "cell_type": "code",
   "execution_count": 318,
   "id": "71fca7b7-a6a0-4b49-b123-154540edb53f",
   "metadata": {},
   "outputs": [],
   "source": [
    "# papers #2\n",
    "query2_df = papers.iloc[cluster_reprs_paper_idxs].copy()\n",
    "query2_df['relevant'] = False\n",
    "\n",
    "query_output_dir = '/data/rsg/nlp/juanmoo1/projects/02_iterative_search'\n",
    "query_2_sheet_path = os.path.join(query_output_dir, 'query_2.xlsx')\n",
    "# query2_df.to_excel(query_2_sheet_path)"
   ]
  },
  {
   "cell_type": "markdown",
   "id": "19f12af9-d2dc-43e3-a8e1-49996de59efc",
   "metadata": {},
   "source": [
    "## Interactively get decisions for each document cluster"
   ]
  },
  {
   "cell_type": "code",
   "execution_count": 36,
   "id": "a754f967",
   "metadata": {
    "tags": []
   },
   "outputs": [
    {
     "data": {
      "application/vnd.jupyter.widget-view+json": {
       "model_id": "",
       "version_major": 2,
       "version_minor": 0
      },
      "text/plain": [
       "VBox(children=(HTML(value='placeholder'), HBox(children=(Button(description='Relevant', style=ButtonStyle()), …"
      ]
     },
     "metadata": {},
     "output_type": "display_data"
    },
    {
     "data": {
      "application/vnd.jupyter.widget-view+json": {
       "model_id": "",
       "version_major": 2,
       "version_minor": 0
      },
      "text/plain": [
       "VBox(children=(HTML(value='<b>title</b>: Daratumumab plus carfilzomib and dexamethasone in patients with relap…"
      ]
     },
     "metadata": {},
     "output_type": "display_data"
    }
   ],
   "source": [
    "decisions = []\n",
    "res = get_decisions(papers, cluster_reprs_paper_idxs, decisions)"
   ]
  },
  {
   "cell_type": "code",
   "execution_count": 37,
   "id": "4aa5d8a4",
   "metadata": {},
   "outputs": [],
   "source": [
    "# Label classes and papers that belong to those classes\n",
    "class_idx_to_decision = {cidx:d for cidx, d in zip(shown_cluster_idxs, decisions)}\n",
    "\n",
    "papers['pred_class'] = class_preds\n",
    "papers['used'] = papers['pred_class'].isin(shown_cluster_idxs)\n",
    "papers['decision'] = np.nan\n",
    "used_loc = papers['used'] == True\n",
    "papers.loc[used_loc, 'decision'] = papers.loc[used_loc, 'pred_class'].apply(class_idx_to_decision.get)"
   ]
  },
  {
   "cell_type": "code",
   "execution_count": 38,
   "id": "3ad80b77",
   "metadata": {},
   "outputs": [],
   "source": [
    "used_papers = papers.loc[used_loc]"
   ]
  },
  {
   "cell_type": "code",
   "execution_count": 39,
   "id": "fe064eeb",
   "metadata": {},
   "outputs": [
    {
     "name": "stdout",
     "output_type": "stream",
     "text": [
      "[0, 10, 13, 26, 32, 40, 43, 60, 72, 75, 77]\n",
      "Class Decision: False\n",
      "Included Keywords: ['refractory' 'refractory multiple myeloma' 'refractory multiple'\n",
      " 'response' 'response rate' 'progression-free survival' 'survival'\n",
      " 'therapy' 'prior' 'rate' 'grade' 'progression-free' 'events']\n",
      "Not Included Keywords: ['ixazomib' 'relapsed multiple myeloma' 'relapsed multiple'\n",
      " 'relapsed and refractory']\n",
      "----------\n",
      "[1, 11, 59, 93]\n",
      "Class Decision: True\n",
      "Included Keywords: ['pomalidomide' 'lenalidomide' 'refractory' 'carfilzomib' 'treatment'\n",
      " 'survival' 'trials' 'trial']\n",
      "Not Included Keywords: ['real-world' 'relapsed multiple myeloma' 'patients with relapsed'\n",
      " 'relapsed multiple' 'relapsed or refractory' 'refractory patients'\n",
      " 'safety' 'bortezomib and dexamethasone' 'low-dose dexamethasone'\n",
      " 'partial response' 'received' 'grade' 'complete response' 'group'\n",
      " 'good partial response' 'prior lines' 'cycles' 'median follow-up'\n",
      " 'efficacy and safety']\n",
      "----------\n",
      "[3, 38, 49]\n",
      "Class Decision: False\n",
      "Included Keywords: ['dexamethasone' 'lenalidomide' 'refractory' 'refractory multiple myeloma'\n",
      " 'refractory multiple' 'treatment' 'progression-free survival' 'survival'\n",
      " 'phase' 'rate' 'received' 'progression-free' 'cycles']\n",
      "Not Included Keywords: ['efficacy' 'ixazomib' 'proteasome inhibitor' 'real-world' 'carfilzomib'\n",
      " 'relapsed multiple myeloma' 'relapsed multiple' 'therapy'\n",
      " 'bortezomib and dexamethasone' 'trials' 'partial response'\n",
      " 'complete response' 'good partial response' 'prior lines'\n",
      " 'efficacy and safety']\n",
      "----------\n",
      "[4, 30, 34, 50, 86, 88, 95]\n",
      "Class Decision: False\n",
      "Included Keywords: ['refractory' 'response' 'response rate' 'therapy' 'rate']\n",
      "Not Included Keywords: ['ixazomib' 'carfilzomib' 'refractory multiple myeloma'\n",
      " 'relapsed multiple myeloma' 'refractory multiple'\n",
      " 'patients with relapsed' 'relapsed multiple' 'phase'\n",
      " 'low-dose dexamethasone' 'grade' 'complete response'\n",
      " 'relapsed and refractory']\n",
      "----------\n",
      "[5, 19, 27, 31, 61, 71, 94]\n",
      "Class Decision: False\n",
      "Included Keywords: ['efficacy' 'lenalidomide' 'refractory' 'refractory multiple myeloma'\n",
      " 'refractory multiple' 'months' 'median' 'treatment' 'safety']\n",
      "Not Included Keywords: ['real-world' 'carfilzomib' 'relapsed or refractory' 'refractory patients'\n",
      " 'bortezomib and dexamethasone' 'partial response' 'complete response'\n",
      " 'good partial response']\n",
      "----------\n",
      "[6, 15, 52, 64]\n",
      "Class Decision: False\n",
      "Included Keywords: ['refractory' 'median' 'treatment' 'response' 'response rate' 'prior'\n",
      " 'rate' 'adverse events' 'received' 'trial' 'adverse' 'events']\n",
      "Not Included Keywords: ['daratumumab' 'ixazomib' 'real-world' 'relapsed multiple myeloma'\n",
      " 'relapsed multiple' 'refractory patients' 'bortezomib and dexamethasone'\n",
      " 'complete response' 'prior lines' 'median follow-up' 'rates'\n",
      " 'efficacy and safety']\n",
      "----------\n",
      "[7, 62, 76, 83]\n",
      "Class Decision: True\n",
      "Included Keywords: ['dexamethasone' 'refractory' 'refractory multiple myeloma'\n",
      " 'refractory multiple' 'months' 'patients with relapsed' 'median'\n",
      " 'response' 'survival' 'rate']\n",
      "Not Included Keywords: ['pomalidomide' 'real-world' 'carfilzomib' 'relapsed multiple myeloma'\n",
      " 'relapsed multiple' 'treatment' 'refractory patients'\n",
      " 'low-dose dexamethasone' 'trials' 'complete response'\n",
      " 'relapsed and refractory' 'clinical' 'efficacy and safety']\n",
      "----------\n",
      "[9, 28, 36, 46, 48, 89, 98]\n",
      "Class Decision: True\n",
      "Included Keywords: ['dexamethasone' 'refractory' 'refractory multiple myeloma'\n",
      " 'refractory multiple' 'progression-free survival' 'survival'\n",
      " 'progression-free']\n",
      "Not Included Keywords: ['pomalidomide' 'ixazomib' 'real-world' 'relapsed multiple myeloma'\n",
      " 'relapsed multiple' 'refractory patients' 'low-dose dexamethasone'\n",
      " 'received' 'relapsed and refractory' 'good partial response'\n",
      " 'prior lines' 'regimens' 'median follow-up' 'efficacy and safety']\n",
      "----------\n",
      "[12, 14, 25]\n",
      "Class Decision: False\n",
      "Included Keywords: ['dexamethasone' 'lenalidomide' 'refractory' 'refractory multiple myeloma'\n",
      " 'refractory multiple' 'months' 'patients with relapsed' 'median'\n",
      " 'treatment' 'progression-free survival' 'survival' 'adverse events'\n",
      " 'progression-free' 'adverse' 'events' 'clinical']\n",
      "Not Included Keywords: ['pomalidomide' 'daratumumab' 'proteasome inhibitor'\n",
      " 'relapsed multiple myeloma' 'relapsed multiple' 'response'\n",
      " 'response rate' 'bortezomib and dexamethasone' 'low-dose dexamethasone'\n",
      " 'trials' 'partial response' 'received' 'complete response'\n",
      " 'good partial response' 'prior lines' 'cycles']\n",
      "----------\n",
      "[16, 21, 35, 53, 67, 80, 92]\n",
      "Class Decision: True\n",
      "Included Keywords: ['dexamethasone' 'refractory' 'patients with relapsed' 'median'\n",
      " 'treatment' 'response' 'response rate' 'phase' 'rate'\n",
      " 'bortezomib and dexamethasone']\n",
      "Not Included Keywords: ['ixazomib' 'proteasome inhibitor' 'real-world' 'carfilzomib'\n",
      " 'relapsed multiple myeloma' 'relapsed multiple' 'low-dose dexamethasone'\n",
      " 'relapsed and refractory' 'group' 'prior lines' 'rates']\n",
      "----------\n",
      "[18, 20, 22, 29]\n",
      "Class Decision: False\n",
      "Included Keywords: ['lenalidomide' 'carfilzomib' 'relapsed multiple myeloma' 'months'\n",
      " 'relapsed multiple' 'progression-free survival' 'survival' 'therapy'\n",
      " 'study' 'progression-free']\n",
      "Not Included Keywords: ['daratumumab' 'ixazomib' 'real-world' 'refractory patients'\n",
      " 'adverse events' 'low-dose dexamethasone' 'partial response' 'grade'\n",
      " 'adverse' 'events' 'relapsed and refractory' 'clinical'\n",
      " 'good partial response' 'regimens' 'median follow-up']\n",
      "----------\n",
      "[23, 39, 73, 84, 91, 96]\n",
      "Class Decision: False\n",
      "Included Keywords: ['dexamethasone' 'refractory' 'treatment' 'survival' 'rate'\n",
      " 'progression-free']\n",
      "Not Included Keywords: ['pomalidomide' 'ixazomib' 'carfilzomib' 'relapsed multiple myeloma'\n",
      " 'relapsed multiple' 'phase' 'bortezomib and dexamethasone'\n",
      " 'low-dose dexamethasone' 'group' 'prior lines' 'median follow-up']\n",
      "----------\n",
      "[24, 45, 51, 97]\n",
      "Class Decision: False\n",
      "Included Keywords: ['daratumumab' 'lenalidomide' 'combination']\n",
      "Not Included Keywords: ['real-world' 'relapsed multiple myeloma' 'patients with relapsed'\n",
      " 'relapsed multiple' 'median' 'response rate' 'refractory patients'\n",
      " 'study' 'safety' 'adverse events' 'bortezomib and dexamethasone'\n",
      " 'partial response' 'received' 'grade' 'adverse' 'complete response'\n",
      " 'events' 'group' 'good partial response' 'prior lines' 'cycles'\n",
      " 'median follow-up' 'rates' 'efficacy and safety']\n",
      "----------\n",
      "[41, 55, 65]\n",
      "Class Decision: False\n",
      "Included Keywords: []\n",
      "Not Included Keywords: ['pomalidomide' 'dexamethasone' 'daratumumab' 'efficacy' 'lenalidomide'\n",
      " 'real-world' 'carfilzomib' 'relapsed multiple myeloma'\n",
      " 'relapsed multiple' 'response' 'response rate' 'relapsed or refractory'\n",
      " 'refractory patients' 'combination' 'prior' 'safety' 'rate'\n",
      " 'adverse events' 'bortezomib and dexamethasone' 'low-dose dexamethasone'\n",
      " 'trials' 'partial response' 'received' 'trial' 'grade' 'adverse'\n",
      " 'complete response' 'events' 'relapsed and refractory' 'group'\n",
      " 'good partial response' 'prior lines' 'regimens' 'cycles'\n",
      " 'median follow-up' 'rates' 'efficacy and safety']\n",
      "----------\n"
     ]
    }
   ],
   "source": [
    "# Get keywords that are either always or never included on given cluster \n",
    "\n",
    "pos_include_kw = set()\n",
    "pos_noinclude_kw = set()\n",
    "\n",
    "neg_include_kw = set()\n",
    "neg_noinclude_kw = set()\n",
    "\n",
    "for pred_class in pd.unique(used_papers['pred_class']):\n",
    "    \n",
    "    class_df = used_papers.loc[used_papers['pred_class'] == pred_class]\n",
    "    paper_idxs = list(class_df.index)\n",
    "    print(paper_idxs)\n",
    "    class_kwm = kw_karnaugh_map[paper_idxs]\n",
    "    pos_kw = np.where(class_kwm.mean(axis=0) >= 0.999)[0]\n",
    "    neg_kw = np.where(class_kwm.mean(axis=0) <= 0.001)[0]\n",
    "    \n",
    "    print('Class Decision:', class_idx_to_decision[pred_class])\n",
    "    print('Included Keywords:', keywords[pos_kw])\n",
    "    print('Not Included Keywords:', keywords[neg_kw])\n",
    "    \n",
    "    if class_idx_to_decision[pred_class]:\n",
    "        pos_include_kw |= set(pos_kw)\n",
    "        pos_noinclude_kw |= set(neg_kw)\n",
    "    else:\n",
    "        neg_include_kw |= set(pos_kw)\n",
    "        neg_noinclude_kw |= set(neg_kw)\n",
    "    \n",
    "    \n",
    "    print('-' * 10)"
   ]
  },
  {
   "cell_type": "code",
   "execution_count": 40,
   "id": "9b98d275",
   "metadata": {},
   "outputs": [
    {
     "name": "stdout",
     "output_type": "stream",
     "text": [
      "Positive include\n",
      "['pomalidomide', 'bortezomib and dexamethasone', 'trials']\n",
      "\n",
      "Positive no include\n",
      "['pomalidomide', 'ixazomib', 'proteasome inhibitor', 'real-world', 'relapsed or refractory', 'refractory patients', 'bortezomib and dexamethasone', 'low-dose dexamethasone', 'trials', 'partial response', 'complete response', 'relapsed and refractory', 'group', 'good partial response', 'prior lines', 'regimens', 'median follow-up', 'rates', 'efficacy and safety']\n"
     ]
    }
   ],
   "source": [
    "# Show keywords that are included in positive examples that are not included in any negative examples\n",
    "print('Positive include')\n",
    "idxs = (pos_include_kw - neg_include_kw)\n",
    "print([keywords[j] for j in idxs])\n",
    "\n",
    "print()\n",
    "# Show keywords that are not included in positive examples that are included in some negative examples\n",
    "print('Positive no include')\n",
    "idxs = pos_noinclude_kw - neg_include_kw\n",
    "print([keywords[j] for j in idxs])"
   ]
  },
  {
   "cell_type": "code",
   "execution_count": null,
   "id": "09499d42",
   "metadata": {},
   "outputs": [],
   "source": []
  },
  {
   "cell_type": "code",
   "execution_count": null,
   "id": "78008c35-da64-4cdd-99b5-134507572dc2",
   "metadata": {},
   "outputs": [],
   "source": []
  }
 ],
 "metadata": {
  "kernelspec": {
   "display_name": "cuda11",
   "language": "python",
   "name": "cuda11"
  },
  "language_info": {
   "codemirror_mode": {
    "name": "ipython",
    "version": 3
   },
   "file_extension": ".py",
   "mimetype": "text/x-python",
   "name": "python",
   "nbconvert_exporter": "python",
   "pygments_lexer": "ipython3",
   "version": "3.9.7"
  }
 },
 "nbformat": 4,
 "nbformat_minor": 5
}
